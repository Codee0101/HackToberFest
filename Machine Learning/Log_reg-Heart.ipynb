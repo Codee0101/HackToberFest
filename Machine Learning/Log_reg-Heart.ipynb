{
 "cells": [
  {
   "cell_type": "code",
   "execution_count": 9,
   "id": "8305bfe0",
   "metadata": {},
   "outputs": [],
   "source": [
    "import pandas as pd\n",
    "import numpy as np\n",
    "from sklearn.model_selection import train_test_split\n",
    "import warnings\n",
    "warnings.filterwarnings(\"ignore\")\n",
    "from sklearn.metrics import confusion_matrix\n",
    "from sklearn.metrics import accuracy_score\n",
    "from sklearn.metrics import classification_report\n",
    "from sklearn.metrics import roc_auc_score\n",
    "from sklearn.metrics import log_loss\n",
    "from sklearn.linear_model import LogisticRegression\n",
    "class LogitRegression():\n",
    "        def __init__(self,learning_rate,iterations) :\n",
    "            self.learning_rate=learning_rate\n",
    "            self.iterations=iterations\n",
    "\n",
    "        def fit(self,X,Y):\n",
    "            self.m,self.n=X.shape\n",
    "            self.W= np.zeros(self.n)\n",
    "            self.b=0\n",
    "            self.X=X\n",
    "            self.Y=Y\n",
    "\n",
    "            for i in range(self.iterations):\n",
    "                self.update_weights()\n",
    "            return self\n",
    "\n",
    "        def update_weights(self):\n",
    "            A=1/(1+np.exp(-(self.X.dot(self.W)+self.b)))\n",
    "\n",
    "            tmp=(A-self.Y.T)\n",
    "            tmp=np.reshape(tmp,self.m)\n",
    "            dW=np.dot(self.X.T,tmp)/self.m\n",
    "            db=np.sum(tmp)/self.m\n",
    "\n",
    "            self.W=self.W-self.learning_rate*dW\n",
    "            self.b=self.b-self.learning_rate*db\n",
    "            return self\n",
    "\n",
    "        def predict(self,X):\n",
    "            Z=1/(1+np.exp(-(X.dot(self.W)+self.b)))\n",
    "            Y=np.where(Z>0.5,1,0)\n",
    "            return Y\n"
   ]
  },
  {
   "cell_type": "code",
   "execution_count": 42,
   "id": "062695ff",
   "metadata": {},
   "outputs": [
    {
     "name": "stdout",
     "output_type": "stream",
     "text": [
      "Accuracy on the test set by our model   :  71.0\n",
      "Accuracy on the test set by our model1   :  83.0\n"
     ]
    }
   ],
   "source": [
    "df = pd.read_csv(\"heart_failure_clinical_records_dataset.csv\")\n",
    "X=df.iloc[:,:-1].values\n",
    "Y=df.iloc[:,-1:].values\n",
    "\n",
    "X_train, X_test,Y_train, Y_test=train_test_split(X,Y,test_size=1/3,random_state=4)\n",
    "\n",
    "model=LogitRegression(learning_rate=0.01,iterations=1000)\n",
    "model.fit(X_train,Y_train)\n",
    "model1=LogisticRegression()\n",
    "model1.fit(X_train,Y_train)\n",
    "\n",
    "Y_pred=model.predict(X_test)\n",
    "Y_pred1=model1.predict(X_test)\n",
    "\n",
    "correctly_classified = 0\n",
    "correctly_classified1 = 0\n",
    "\n",
    "count=0\n",
    "for count in range(np.size(Y_pred)):\n",
    "    if Y_test[count]==Y_pred[count]:\n",
    "        correctly_classified=correctly_classified+1\n",
    "    \n",
    "    if Y_test[count] == Y_pred1[count]:\n",
    "        correctly_classified1 = correctly_classified1+1\n",
    "\n",
    "    count=count+1\n",
    "\n",
    "print(\"Accuracy on the test set by our model   : \",(correctly_classified/count)*100)\n",
    "print(\"Accuracy on the test set by our model1   : \", (correctly_classified1/count)*100)"
   ]
  },
  {
   "cell_type": "code",
   "execution_count": 43,
   "id": "e6c37902",
   "metadata": {},
   "outputs": [
    {
     "name": "stdout",
     "output_type": "stream",
     "text": [
      "Confusion Matrix : \n",
      "[[71  0]\n",
      " [29  0]]\n"
     ]
    }
   ],
   "source": [
    "# performance Measures\n",
    "results = confusion_matrix(Y_test, Y_pred)\n",
    "print(\"Confusion Matrix : \")\n",
    "print(results)"
   ]
  },
  {
   "cell_type": "code",
   "execution_count": 44,
   "id": "bc556901",
   "metadata": {},
   "outputs": [
    {
     "name": "stdout",
     "output_type": "stream",
     "text": [
      "Accuracy Score is 0.71\n"
     ]
    }
   ],
   "source": [
    "print('Accuracy Score is', accuracy_score(Y_test, Y_pred))"
   ]
  },
  {
   "cell_type": "code",
   "execution_count": 45,
   "id": "84e59e34",
   "metadata": {},
   "outputs": [
    {
     "name": "stdout",
     "output_type": "stream",
     "text": [
      "classification_report : \n",
      "              precision    recall  f1-score   support\n",
      "\n",
      "           0       0.71      1.00      0.83        71\n",
      "           1       0.00      0.00      0.00        29\n",
      "\n",
      "    accuracy                           0.71       100\n",
      "   macro avg       0.35      0.50      0.42       100\n",
      "weighted avg       0.50      0.71      0.59       100\n",
      "\n"
     ]
    }
   ],
   "source": [
    "print('classification_report : ')\n",
    "print(classification_report(Y_test, Y_pred))"
   ]
  },
  {
   "cell_type": "code",
   "execution_count": 46,
   "id": "cba0f8e6",
   "metadata": {},
   "outputs": [
    {
     "name": "stdout",
     "output_type": "stream",
     "text": [
      "LOGLOSS VALUE is 10.016245154524096\n"
     ]
    }
   ],
   "source": [
    "print('LOGLOSS VALUE is', log_loss(Y_test, Y_pred))"
   ]
  },
  {
   "cell_type": "code",
   "execution_count": 47,
   "id": "4b9e815d",
   "metadata": {},
   "outputs": [
    {
     "name": "stdout",
     "output_type": "stream",
     "text": [
      "AUC-ROC: 0.5\n"
     ]
    }
   ],
   "source": [
    "print('AUC-ROC:', roc_auc_score(Y_test, Y_pred))"
   ]
  }
 ],
 "metadata": {
  "kernelspec": {
   "display_name": "Python 3",
   "language": "python",
   "name": "python3"
  },
  "language_info": {
   "codemirror_mode": {
    "name": "ipython",
    "version": 3
   },
   "file_extension": ".py",
   "mimetype": "text/x-python",
   "name": "python",
   "nbconvert_exporter": "python",
   "pygments_lexer": "ipython3",
   "version": "3.8.8"
  }
 },
 "nbformat": 4,
 "nbformat_minor": 5
}
